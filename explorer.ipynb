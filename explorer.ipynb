{
 "cells": [
  {
   "cell_type": "code",
   "execution_count": 1,
   "metadata": {
    "collapsed": true
   },
   "outputs": [],
   "source": [
    "%matplotlib inline\n",
    "import pylab as pl\n",
    "import numpy as np\n",
    "import scipy as sp\n",
    "import pandas as pd\n",
    "from datetime import datetime, timedelta\n",
    "\n",
    "import util"
   ]
  },
  {
   "cell_type": "code",
   "execution_count": 2,
   "metadata": {
    "collapsed": true
   },
   "outputs": [],
   "source": [
    "X = util.fetch(util.cache_path('train_X_before_2014-08-01_22-00-47'))\n",
    "y = util.fetch(util.cache_path('train_y_before_2014-08-01_22-00-47'))"
   ]
  },
  {
   "cell_type": "code",
   "execution_count": 3,
   "metadata": {
    "collapsed": false
   },
   "outputs": [],
   "source": [
    "X[X[:, :45] > 0] = 1."
   ]
  },
  {
   "cell_type": "code",
   "execution_count": 4,
   "metadata": {
    "collapsed": false
   },
   "outputs": [],
   "source": [
    "X[:, 47] = X[:, 47] / 3."
   ]
  },
  {
   "cell_type": "code",
   "execution_count": 5,
   "metadata": {
    "collapsed": false
   },
   "outputs": [],
   "source": [
    "X[:, 48] = X[:, 48] / 6."
   ]
  },
  {
   "cell_type": "code",
   "execution_count": 6,
   "metadata": {
    "collapsed": true
   },
   "outputs": [],
   "source": [
    "X[:, 49] = X[:, 49] / 20104."
   ]
  },
  {
   "cell_type": "code",
   "execution_count": 7,
   "metadata": {
    "collapsed": true
   },
   "outputs": [],
   "source": [
    "X[:, 50] = X[:, 50] / 20104."
   ]
  },
  {
   "cell_type": "code",
   "execution_count": 8,
   "metadata": {
    "collapsed": false
   },
   "outputs": [],
   "source": [
    "X[:, 141:] = X[:, 141:] / np.amax(X, axis=0)[141:]"
   ]
  },
  {
   "cell_type": "code",
   "execution_count": 9,
   "metadata": {
    "collapsed": false
   },
   "outputs": [],
   "source": [
    "i = 55\n",
    "while i < 96:\n",
    "    X[:, i] = X[:, i] / np.max(X[:, i])\n",
    "    i += 5"
   ]
  },
  {
   "cell_type": "code",
   "execution_count": 10,
   "metadata": {
    "collapsed": true
   },
   "outputs": [],
   "source": [
    "from sklearn.svm import LinearSVC\n",
    "from sklearn.cross_validation import cross_val_score, StratifiedKFold"
   ]
  },
  {
   "cell_type": "code",
   "execution_count": 11,
   "metadata": {
    "collapsed": true
   },
   "outputs": [],
   "source": [
    "svc = LinearSVC(dual=False, class_weight='auto')"
   ]
  },
  {
   "cell_type": "code",
   "execution_count": 12,
   "metadata": {
    "collapsed": false
   },
   "outputs": [
    {
     "data": {
      "text/plain": [
       "array([ 0.89339357,  0.9134252 ,  0.85240336,  0.86367327,  0.81409625])"
      ]
     },
     "execution_count": 12,
     "metadata": {},
     "output_type": "execute_result"
    }
   ],
   "source": [
    "cross_val_score(svc, X, y, scoring='roc_auc', cv=StratifiedKFold(y, 5))"
   ]
  },
  {
   "cell_type": "code",
   "execution_count": 13,
   "metadata": {
    "collapsed": false
   },
   "outputs": [
    {
     "data": {
      "text/plain": [
       "LinearSVC(C=1.0, class_weight='auto', dual=False, fit_intercept=True,\n",
       "     intercept_scaling=1, loss='squared_hinge', max_iter=1000,\n",
       "     multi_class='ovr', penalty='l2', random_state=None, tol=0.0001,\n",
       "     verbose=0)"
      ]
     },
     "execution_count": 13,
     "metadata": {},
     "output_type": "execute_result"
    }
   ],
   "source": [
    "svc.fit(X, y)"
   ]
  },
  {
   "cell_type": "code",
   "execution_count": 14,
   "metadata": {
    "collapsed": false
   },
   "outputs": [],
   "source": [
    "from sklearn.metrics import roc_auc_score"
   ]
  },
  {
   "cell_type": "code",
   "execution_count": 15,
   "metadata": {
    "collapsed": false
   },
   "outputs": [
    {
     "data": {
      "text/plain": [
       "0.85831888308739623"
      ]
     },
     "execution_count": 15,
     "metadata": {},
     "output_type": "execute_result"
    }
   ],
   "source": [
    "from sklearn.calibration import CalibratedClassifierCV\n",
    "clf = CalibratedClassifierCV(svc, cv=StratifiedKFold(y, 5),\n",
    "                                      method='isotonic')\n",
    "clf.fit(X, y)\n",
    "roc_auc_score(y, clf.predict_proba(X)[:, 1])"
   ]
  },
  {
   "cell_type": "code",
   "execution_count": 16,
   "metadata": {
    "collapsed": false,
    "scrolled": false
   },
   "outputs": [
    {
     "data": {
      "text/plain": [
       "array([ 0.19560413,  0.17089759,  0.65764372, -0.16353356, -0.03430508,\n",
       "        0.03438299,  0.0305282 , -0.81062161, -0.18258275, -0.02177491,\n",
       "       -0.61820751, -0.1728157 ,  0.02736452, -0.05324924, -0.23152444,\n",
       "       -0.13226027,  0.00292948, -0.13227422, -0.07393709, -0.01571165,\n",
       "       -0.18954343, -0.1581372 ,  0.04015358,  0.1046442 , -0.06462214,\n",
       "        0.1141877 , -0.0793758 ,  0.09890401, -0.1229745 , -0.02287298,\n",
       "       -0.00665293,  0.02671975,  0.6407645 ,  0.72272215,  0.59951251,\n",
       "        0.42662929, -0.0743573 ,  0.10653245, -0.2188587 , -0.08949457,\n",
       "       -0.12845542,  0.27643448, -0.02939936,  0.27823046, -0.03132662])"
      ]
     },
     "execution_count": 16,
     "metadata": {},
     "output_type": "execute_result"
    }
   ],
   "source": [
    "svc.coef_[0][0:45]"
   ]
  },
  {
   "cell_type": "code",
   "execution_count": 17,
   "metadata": {
    "collapsed": false
   },
   "outputs": [
    {
     "data": {
      "text/plain": [
       "0.85801240818802649"
      ]
     },
     "execution_count": 17,
     "metadata": {},
     "output_type": "execute_result"
    }
   ],
   "source": [
    "from sklearn.linear_model import LogisticRegressionCV\n",
    "lr = LogisticRegressionCV(cv=5, scoring='roc_auc')\n",
    "lr.fit(X, y)\n",
    "roc_auc_score(y, lr.predict_proba(X)[:, 1])"
   ]
  },
  {
   "cell_type": "code",
   "execution_count": 19,
   "metadata": {
    "collapsed": false
   },
   "outputs": [
    {
     "data": {
      "text/plain": [
       "array([ 0.55524728,  0.58337573,  3.14866739, -0.42387956, -0.08976478,\n",
       "        0.13819725,  0.35633133, -3.41059384, -0.29468168, -0.03769797,\n",
       "       -2.78221699, -0.59845394, -0.11601482,  0.0636001 , -0.54406701,\n",
       "       -0.26319308, -0.25419769,  0.30933589, -0.50214663, -0.04211469,\n",
       "       -0.49922947, -0.42282014, -0.13151163,  0.35713128, -0.17807037,\n",
       "        0.32982723, -0.21705695,  0.3376418 , -1.53369482, -0.03792951,\n",
       "       -0.19220702, -0.04559449,  1.55751474,  1.77052335,  1.64272848,\n",
       "        1.67319217, -0.09988238,  0.69010081, -1.11456405, -0.2379652 ,\n",
       "       -0.46870361,  1.34808414, -0.24040566,  2.74425955, -0.10113288])"
      ]
     },
     "execution_count": 19,
     "metadata": {},
     "output_type": "execute_result"
    }
   ],
   "source": [
    "lr.coef_[0][0:45]"
   ]
  },
  {
   "cell_type": "code",
   "execution_count": null,
   "metadata": {
    "collapsed": true
   },
   "outputs": [],
   "source": []
  }
 ],
 "metadata": {
  "kernelspec": {
   "display_name": "Python 3",
   "language": "python",
   "name": "python3"
  },
  "language_info": {
   "codemirror_mode": {
    "name": "ipython",
    "version": 3
   },
   "file_extension": ".py",
   "mimetype": "text/x-python",
   "name": "python",
   "nbconvert_exporter": "python",
   "pygments_lexer": "ipython3",
   "version": "3.4.3"
  }
 },
 "nbformat": 4,
 "nbformat_minor": 0
}
